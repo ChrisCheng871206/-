{
 "cells": [
  {
   "cell_type": "code",
   "execution_count": 1,
   "id": "30e1d555",
   "metadata": {},
   "outputs": [
    {
     "name": "stdout",
     "output_type": "stream",
     "text": [
      "TF version: 2.6.0\n",
      "Hub version: 0.8.0\n",
      "GPU is available\n"
     ]
    }
   ],
   "source": [
    "import itertools\n",
    "import os\n",
    "import matplotlib.pylab as plt\n",
    "import numpy as np\n",
    "import tensorflow as tf\n",
    "import tensorflow_hub as hub\n",
    "import tensorflow_addons as tfa\n",
    " \n",
    "print(\"TF version:\", tf.__version__)\n",
    "print(\"Hub version:\", hub.__version__)\n",
    "print(\"GPU is\", \"available\" if tf.config.list_physical_devices('GPU') else \"NOT AVAILABLE\")"
   ]
  },
  {
   "cell_type": "code",
   "execution_count": 2,
   "id": "356684e9",
   "metadata": {},
   "outputs": [
    {
     "name": "stdout",
     "output_type": "stream",
     "text": [
      "Selected model: efficientnetv2-s-21k : https://tfhub.dev/google/imagenet/efficientnet_v2_imagenet21k_s/feature_vector/2\n",
      "Input size (384, 384)\n"
     ]
    }
   ],
   "source": [
    "model_name = \"efficientnetv2-s-21k\" \n",
    "model_handle_map = {\n",
    "  \"efficientnetv2-s-21k\": \"https://tfhub.dev/google/imagenet/efficientnet_v2_imagenet21k_s/feature_vector/2\",\n",
    "  \"efficientnetv2-m-21k\": \"https://tfhub.dev/google/imagenet/efficientnet_v2_imagenet21k_m/feature_vector/2\",\n",
    "  \"efficientnetv2-l-21k\": \"https://tfhub.dev/google/imagenet/efficientnet_v2_imagenet21k_l/feature_vector/2\",\n",
    "  \"efficientnetv2-xl-21k\": \"https://tfhub.dev/google/imagenet/efficientnet_v2_imagenet21k_xl/feature_vector/2\",\n",
    "  \"efficientnetv2-b0-21k\": \"https://tfhub.dev/google/imagenet/efficientnet_v2_imagenet21k_b0/feature_vector/2\",\n",
    "  \"efficientnetv2-b1-21k\": \"https://tfhub.dev/google/imagenet/efficientnet_v2_imagenet21k_b1/feature_vector/2\",\n",
    "  \"efficientnetv2-b2-21k\": \"https://tfhub.dev/google/imagenet/efficientnet_v2_imagenet21k_b2/feature_vector/2\",\n",
    "  \"efficientnetv2-b3-21k\": \"https://tfhub.dev/google/imagenet/efficientnet_v2_imagenet21k_b3/feature_vector/2\",\n",
    "}\n",
    "\n",
    "model_image_size_map = {\n",
    "  \"efficientnetv2-s-21k\": 384,\n",
    "  \"efficientnetv2-m-21k\": 480,\n",
    "  \"efficientnetv2-l-21k\": 480,\n",
    "  \"efficientnetv2-xl-21k\": 512,\n",
    "  \"efficientnetv2-b0-21k\": 224,\n",
    "  \"efficientnetv2-b1-21k\": 240,\n",
    "  \"efficientnetv2-b2-21k\": 260,\n",
    "  \"efficientnetv2-b3-21k\": 300,\n",
    "  \"efficientnetv2-s-21k-ft1k\": 384,\n",
    "  \"efficientnetv2-m-21k-ft1k\": 480,\n",
    "  \"efficientnetv2-l-21k-ft1k\": 480,\n",
    "  \"efficientnetv2-xl-21k-ft1k\": 512,\n",
    "  \"efficientnetv2-b0-21k-ft1k\": 224,\n",
    "  \"efficientnetv2-b1-21k-ft1k\": 240,\n",
    "  \"efficientnetv2-b2-21k-ft1k\": 260,\n",
    "  \"efficientnetv2-b3-21k-ft1k\": 300, \n",
    "}\n",
    "\n",
    "model_handle = model_handle_map.get(model_name)\n",
    "pixels = model_image_size_map.get(model_name, 224)\n",
    "print(f\"Selected model: {model_name} : {model_handle}\")\n",
    "IMAGE_SIZE = (pixels, pixels)\n",
    "print(f\"Input size {IMAGE_SIZE}\")\n",
    "BATCH_SIZE = 12"
   ]
  },
  {
   "cell_type": "code",
   "execution_count": 3,
   "id": "821cdfe8",
   "metadata": {},
   "outputs": [
    {
     "name": "stdout",
     "output_type": "stream",
     "text": [
      "Found 80270 files belonging to 14 classes.\n",
      "Using 72243 files for training.\n",
      "Found 80270 files belonging to 14 classes.\n",
      "Using 8027 files for validation.\n"
     ]
    }
   ],
   "source": [
    "data_dir = (\"./data/\")\n",
    "def build_dataset(subset):\n",
    "  return tf.keras.preprocessing.image_dataset_from_directory(\n",
    "      data_dir,\n",
    "      validation_split=.10,\n",
    "      subset=subset,\n",
    "      label_mode=\"categorical\",\n",
    "      shuffle = True,\n",
    "      # Seed needs to provided when using validation_split and shuffle = True.\n",
    "      # A fixed seed is used so that the validation set is stable across runs.\n",
    "      seed=123,\n",
    "      image_size=IMAGE_SIZE,\n",
    "      batch_size=1)\n",
    "\n",
    "train_ds = build_dataset(\"training\")\n",
    "class_names = tuple(train_ds.class_names)\n",
    "train_size = train_ds.cardinality().numpy()\n",
    "train_ds = train_ds.unbatch().batch(BATCH_SIZE)\n",
    "train_ds = train_ds.repeat()\n",
    "\n",
    "normalization_layer = tf.keras.layers.Rescaling(1. / 255)\n",
    "preprocessing_model = tf.keras.Sequential([normalization_layer])\n",
    "do_data_augmentation = True\n",
    "if do_data_augmentation:\n",
    "  preprocessing_model.add(\n",
    "      tf.keras.layers.RandomFlip(mode=\"horizontal\"))\n",
    "\n",
    "train_ds = train_ds.map(lambda images, labels:\n",
    "                        (preprocessing_model(images), labels))\n",
    "\n",
    "val_ds = build_dataset(\"validation\")\n",
    "valid_size = val_ds.cardinality().numpy()\n",
    "val_ds = val_ds.unbatch().batch(BATCH_SIZE)\n",
    "val_ds = val_ds.map(lambda images, labels:\n",
    "                    (normalization_layer(images), labels))"
   ]
  },
  {
   "cell_type": "code",
   "execution_count": 4,
   "id": "f637028f",
   "metadata": {},
   "outputs": [
    {
     "name": "stdout",
     "output_type": "stream",
     "text": [
      "Building model with https://tfhub.dev/google/imagenet/efficientnet_v2_imagenet21k_s/feature_vector/2\n",
      "Model: \"sequential_1\"\n",
      "_________________________________________________________________\n",
      "Layer (type)                 Output Shape              Param #   \n",
      "=================================================================\n",
      "keras_layer (KerasLayer)     (None, 1280)              20331360  \n",
      "_________________________________________________________________\n",
      "dropout (Dropout)            (None, 1280)              0         \n",
      "_________________________________________________________________\n",
      "dense (Dense)                (None, 14)                17934     \n",
      "=================================================================\n",
      "Total params: 20,349,294\n",
      "Trainable params: 20,195,422\n",
      "Non-trainable params: 153,872\n",
      "_________________________________________________________________\n"
     ]
    }
   ],
   "source": [
    "do_fine_tuning = True\n",
    "print(\"Building model with\", model_handle)\n",
    "model = tf.keras.Sequential([\n",
    "    # Explicitly define the input shape so the model can be properly\n",
    "    # loaded by the TFLiteConverter\n",
    "    tf.keras.layers.InputLayer(input_shape=IMAGE_SIZE + (3,)),\n",
    "    hub.KerasLayer(model_handle, trainable=do_fine_tuning),\n",
    "    tf.keras.layers.Dropout(rate=0.2),\n",
    "    tf.keras.layers.Dense(len(class_names),\n",
    "                          kernel_regularizer=tf.keras.regularizers.l2(0.00001))\n",
    "])\n",
    "model.build((None,)+IMAGE_SIZE+(3,))\n",
    "model.summary()"
   ]
  },
  {
   "cell_type": "code",
   "execution_count": 5,
   "id": "f24e1b5b-9bff-4cee-b93f-cda3826a94ee",
   "metadata": {},
   "outputs": [],
   "source": [
    "class_weight = {0: 3.1045,\n",
    "                1: 1,\n",
    "                2: 6.3571,\n",
    "                3: 1.3096,\n",
    "                4: 6.4676,\n",
    "                5: 1.6541,\n",
    "                6: 2.6821,\n",
    "                7: 1.2028,\n",
    "                8: 1.5817,\n",
    "                9: 7.5519,\n",
    "                10: 1.5921,\n",
    "                11: 2.2272,\n",
    "                12: 5.7142,\n",
    "                13: 8.4212}"
   ]
  },
  {
   "cell_type": "code",
   "execution_count": 6,
   "id": "0da03185",
   "metadata": {},
   "outputs": [],
   "source": [
    "lr_decayed_fn = (tf.keras.optimizers.schedules.CosineDecayRestarts(initial_learning_rate=0.01,t_mul=2.0,m_mul=1,first_decay_steps=1000,alpha=0.0))\n",
    "model.compile(\n",
    "  optimizer=tf.keras.optimizers.SGD(learning_rate=lr_decayed_fn, momentum=0.9), \n",
    "  loss=tf.keras.losses.CategoricalCrossentropy(from_logits=True, label_smoothing=0.1),\n",
    "  metrics=['accuracy'])"
   ]
  },
  {
   "cell_type": "code",
   "execution_count": 7,
   "id": "cd7c1b9a",
   "metadata": {},
   "outputs": [
    {
     "name": "stdout",
     "output_type": "stream",
     "text": [
      "Epoch 1/8\n",
      "6020/6020 [==============================] - 2449s 402ms/step - loss: 1.8407 - accuracy: 0.9081 - val_loss: 0.6194 - val_accuracy: 0.9804\n",
      "Epoch 2/8\n",
      "6020/6020 [==============================] - 2392s 397ms/step - loss: 1.4465 - accuracy: 0.9679 - val_loss: 0.5972 - val_accuracy: 0.9845\n",
      "Epoch 3/8\n",
      "6020/6020 [==============================] - 2421s 402ms/step - loss: 1.3715 - accuracy: 0.9781 - val_loss: 0.6343 - val_accuracy: 0.9727\n",
      "Epoch 4/8\n",
      "6020/6020 [==============================] - 2401s 399ms/step - loss: 1.3484 - accuracy: 0.9811 - val_loss: 0.5815 - val_accuracy: 0.9885\n",
      "Epoch 5/8\n",
      "6020/6020 [==============================] - 2468s 410ms/step - loss: 1.2707 - accuracy: 0.9931 - val_loss: 0.5731 - val_accuracy: 0.9919\n",
      "Epoch 6/8\n",
      "6020/6020 [==============================] - 2438s 405ms/step - loss: 1.3328 - accuracy: 0.9824 - val_loss: 0.6236 - val_accuracy: 0.9742\n",
      "Epoch 7/8\n",
      "6020/6020 [==============================] - 2459s 408ms/step - loss: 1.3222 - accuracy: 0.9834 - val_loss: 0.5881 - val_accuracy: 0.9865\n",
      "Epoch 8/8\n",
      "6020/6020 [==============================] - 2407s 400ms/step - loss: 1.2673 - accuracy: 0.9922 - val_loss: 0.5745 - val_accuracy: 0.9905\n"
     ]
    }
   ],
   "source": [
    "steps_per_epoch = train_size // BATCH_SIZE\n",
    "validation_steps = valid_size // BATCH_SIZE\n",
    "callback = tf.keras.callbacks.EarlyStopping(monitor='val_loss', patience=3,restore_best_weights=True)\n",
    "hist = model.fit(\n",
    "    train_ds,\n",
    "    epochs=8, steps_per_epoch=steps_per_epoch,\n",
    "    validation_data=val_ds,\n",
    "    validation_steps=validation_steps,\n",
    "    callbacks=[callback],\n",
    "    class_weight=class_weight).history"
   ]
  },
  {
   "cell_type": "code",
   "execution_count": 10,
   "id": "6eed3f88-130f-4d9b-a0b2-3ba44b597444",
   "metadata": {},
   "outputs": [
    {
     "name": "stdout",
     "output_type": "stream",
     "text": [
      "Found 20000 files belonging to 1 classes.\n"
     ]
    }
   ],
   "source": [
    "test_dir = (\"./test/\")\n",
    "test_ds = tf.keras.utils.image_dataset_from_directory(\n",
    "    test_dir,\n",
    "    labels=None,\n",
    "    color_mode='rgb',\n",
    "    batch_size=1,\n",
    "    image_size=(384, 384),\n",
    "    shuffle=False,\n",
    "    validation_split=None,\n",
    "    subset=None,\n",
    "    crop_to_aspect_ratio=False,\n",
    ")\n",
    "probability_model = tf.keras.Sequential([model,tf.keras.layers.Softmax()])\n",
    "def process(image):\n",
    "    image = tf.cast(image/255. ,tf.float32)\n",
    "    return image\n",
    "test_ds = test_ds.map(process)\n",
    "predictions = probability_model.predict(test_ds)"
   ]
  },
  {
   "cell_type": "code",
   "execution_count": 9,
   "id": "7813326f-1b9f-4334-9299-309fb6edb238",
   "metadata": {},
   "outputs": [],
   "source": [
    "a = np.zeros(20000)\n",
    "cat = [\"banana\", \"bareland\", \"carrot\", \"corn\", \"dragonfruit\", \"garlic\", \"guava\", \"peanut\", \"pineapple\", \"pumpkin\", \"rice\", \"soybean\", \"sugarcane\", \"tomato\"]\n",
    "for i in range(0,19999):\n",
    "    a[i] = np.argmax(predictions[i])\n",
    "os.remove(\"label.csv\")\n",
    "np.savetxt('label.csv', a,fmt='%d', delimiter=',')"
   ]
  },
  {
   "cell_type": "code",
   "execution_count": null,
   "id": "9d7776aa-ec1d-43b0-a842-f93e3c359af2",
   "metadata": {},
   "outputs": [],
   "source": []
  },
  {
   "cell_type": "code",
   "execution_count": null,
   "id": "ee9fee1e-402e-4d73-9d06-b85ea3979dda",
   "metadata": {},
   "outputs": [],
   "source": []
  }
 ],
 "metadata": {
  "kernelspec": {
   "display_name": "Python 3 (ipykernel)",
   "language": "python",
   "name": "python3"
  },
  "language_info": {
   "codemirror_mode": {
    "name": "ipython",
    "version": 3
   },
   "file_extension": ".py",
   "mimetype": "text/x-python",
   "name": "python",
   "nbconvert_exporter": "python",
   "pygments_lexer": "ipython3",
   "version": "3.9.12"
  }
 },
 "nbformat": 4,
 "nbformat_minor": 5
}
